{
 "cells": [
  {
   "cell_type": "code",
   "execution_count": 189,
   "metadata": {},
   "outputs": [],
   "source": [
    "import nltk\n",
    "import numpy as np\n",
    "import string\n",
    "import pickle as pkl"
   ]
  },
  {
   "cell_type": "code",
   "execution_count": 8,
   "metadata": {},
   "outputs": [],
   "source": [
    "tokenize=nltk.tokenize.wordpunct_tokenize"
   ]
  },
  {
   "cell_type": "code",
   "execution_count": 193,
   "metadata": {},
   "outputs": [],
   "source": [
    "t=np.load('./captions/dev_cap.npy')\n",
    "p=np.load('./clip_index/devIndex.npy')"
   ]
  },
  {
   "cell_type": "code",
   "execution_count": 194,
   "metadata": {},
   "outputs": [],
   "source": [
    "def make(sentence):\n",
    "    sentence=sentence.translate(None,string.punctuation)\n",
    "    sentence=string.lower(sentence)\n",
    "    return np.array(tokenize(sentence))    "
   ]
  },
  {
   "cell_type": "code",
   "execution_count": 162,
   "metadata": {},
   "outputs": [],
   "source": [
    "tmp=\"Last Checkpoint: Last Wednesday at 16:51\""
   ]
  },
  {
   "cell_type": "code",
   "execution_count": 59,
   "metadata": {},
   "outputs": [
    {
     "data": {
      "text/plain": [
       "'Last Checkpoint Last Wednesday at 1651'"
      ]
     },
     "execution_count": 59,
     "metadata": {},
     "output_type": "execute_result"
    }
   ],
   "source": [
    "tmp.translate(None,string.punctuation)"
   ]
  },
  {
   "cell_type": "code",
   "execution_count": 195,
   "metadata": {},
   "outputs": [],
   "source": [
    "lookup=dict(zip(p[:,1],p[:,0]))"
   ]
  },
  {
   "cell_type": "code",
   "execution_count": 196,
   "metadata": {},
   "outputs": [],
   "source": [
    "newformat=[]\n",
    "for i in t:\n",
    "    tmp=make(i[1])\n",
    "    if len(tmp)>31:\n",
    "        continue\n",
    "    newformat.append([int(lookup[i[0]]),make(i[1])])"
   ]
  },
  {
   "cell_type": "code",
   "execution_count": 198,
   "metadata": {},
   "outputs": [
    {
     "data": {
      "text/plain": [
       "[1242, array(['rubber', 'band', 'trouble'], dtype='|S7')]"
      ]
     },
     "execution_count": 198,
     "metadata": {},
     "output_type": "execute_result"
    }
   ],
   "source": [
    "newformat[0]"
   ]
  },
  {
   "cell_type": "code",
   "execution_count": 188,
   "metadata": {
    "scrolled": true
   },
   "outputs": [
    {
     "data": {
      "text/plain": [
       "[[790, array(['a', 'hamster', 'is', 'eating'], dtype='|S7')],\n",
       " [1071, array(['a', 'baby', 'laughing'], dtype='|S8')],\n",
       " [578,\n",
       "  array(['a', 'silly', 'dog', 'putting', 'his', 'legs', 'up'], dtype='|S7')],\n",
       " [398, array(['a', 'bird', 'is', 'dancing'], dtype='|S7')],\n",
       " [517,\n",
       "  array(['a', 'military', 'officer', 'is', 'reviewing', 'a', 'group', 'of',\n",
       "         'men'], dtype='|S9')]]"
      ]
     },
     "execution_count": 188,
     "metadata": {},
     "output_type": "execute_result"
    }
   ],
   "source": []
  },
  {
   "cell_type": "code",
   "execution_count": 192,
   "metadata": {},
   "outputs": [],
   "source": [
    "with open('./captions/token_train','w+') as fle:\n",
    "    pkl.dump(obj=newformat,file=fle)"
   ]
  },
  {
   "cell_type": "code",
   "execution_count": 154,
   "metadata": {},
   "outputs": [
    {
     "name": "stdout",
     "output_type": "stream",
     "text": [
      "1100 ['two', 'men', 'are', 'rolling', 'huge', 'tires', 'sideways', 'down', 'a', 'street', 'while', 'spectators', 'watch']\n",
      "1100 ['in', 'a', 'race', 'held', 'each', 'of', 'the', 'two', 'men', 'is', 'moving', 'a', 'huge', 'tire', 'by', 'tumbling', 'them', 'repeatedly', 'on', 'a', 'road', 'lined', 'with', 'people']\n",
      "146 ['it', 'is', 'very', 'beautifulwith', 'the', 'situation', 'of', 'the', 'ecology\\xef', '\\xbb\\xbf', '\\xef', '\\xbb\\xbf', 'i', 'think', 'sustainability', 'should', 'be', 'the', '4th', 'pillar', 'of', 'architecture', 'that', 'architects', 'should', 'consider']\n",
      "84 ['i', 'added', 'bannana', 'peppers', 'red', 'peppers', 'green', 'peppers', 'and', 'purple', 'peppers', 'to', 'my', 'mix', 'left', 'out', 'the', 'lime', 'and', 'garlic', 'and', 'boy', 'its', 'good', 'and', 'has', 'a', 'nice', 'bite\\xef', '\\xbb\\xbf']\n",
      "789 ['a', 'man', 'holding', 'a', 'bundle', 'of', 'jute', 'fibers', 'from', 'which', 'smoke', 'is', 'emanating', 'is', 'blowing', 'air', 'into', 'it', 'till', 'it', 'catches', 'fire', 'and', 'then', 'drops', 'it', 'in', 'a', 'wide', 'vessel']\n",
      "114 ['a', 'man', 'inserts', 'the', 'tip', 'of', 'a', 'large', 'knife', 'into', 'a', 'vise', 'and', 'pulls', 'the', 'knife', 'towards', 'him', 'then', 'removes', 'the', 'knife', 'and', 'appears', 'to', 'be', 'checking', 'the', 'blade', 'for', 'straightness']\n",
      "100 ['a', 'man', 'is', 'standing', 'outdoors', 'on', 'the', 'edge', 'of', 'a', 'parking', 'lot', 'speaking', 'into', 'a', 'microphone', 'while', 'a', 'red', 'banner', 'is', 'displayed', 'across', 'his', 'chest', 'reading', 'manchester', 'fox', 'ct', 'morning', 'news']\n",
      "650 ['a', 'cat', 'is', 'standing', 'of', 'the', 'edge', 'of', 'a', 'toilet', 'defecating', 'into', 'it', 'and', 'then', 'turns', 'and', 'attempts', 'to', 'cover', 'it', 'up', 'by', 'batting', 'on', 'the', 'opposite', 'edge', 'of', 'the', 'toilet']\n",
      "629 ['rita', 'alexander', 'was', 'quite', 'a', 'beauty', 'in', 'her', 'day\\xef', '\\xbb\\xbf', 'she', 'did', 'a', 'fabulous', 'dance', 'rountine', 'to', 'the\\xef', '\\xbb\\xbf', 'soundtack', 'of', 'bartender\\xef', '\\xbb\\xbf', 'ill', 'have\\xef', '\\xbb\\xbf', 'what', 'she', 'is', 'having', 'hic']\n"
     ]
    }
   ],
   "source": [
    "mas=-1\n",
    "which=-1\n",
    "no=0\n",
    "for i in newformat:\n",
    "    mas=max(mas,len(i[1]))\n",
    "    if mas==len(i[1]):\n",
    "        which=no\n",
    "        print i[0],i[1]\n",
    "    "
   ]
  },
  {
   "cell_type": "code",
   "execution_count": 151,
   "metadata": {},
   "outputs": [
    {
     "data": {
      "text/plain": [
       "49246"
      ]
     },
     "execution_count": 151,
     "metadata": {},
     "output_type": "execute_result"
    }
   ],
   "source": [
    "len(newformat)"
   ]
  },
  {
   "cell_type": "code",
   "execution_count": null,
   "metadata": {},
   "outputs": [],
   "source": []
  }
 ],
 "metadata": {
  "kernelspec": {
   "display_name": "Python 2",
   "language": "python",
   "name": "python2"
  },
  "language_info": {
   "codemirror_mode": {
    "name": "ipython",
    "version": 2
   },
   "file_extension": ".py",
   "mimetype": "text/x-python",
   "name": "python",
   "nbconvert_exporter": "python",
   "pygments_lexer": "ipython2",
   "version": "2.7.6"
  }
 },
 "nbformat": 4,
 "nbformat_minor": 2
}
