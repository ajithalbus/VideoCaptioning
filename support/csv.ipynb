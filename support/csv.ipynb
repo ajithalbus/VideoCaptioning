{
 "cells": [
  {
   "cell_type": "code",
   "execution_count": 89,
   "metadata": {},
   "outputs": [],
   "source": [
    "import pandas as pd\n",
    "import itertools as itr\n",
    "import numpy as np\n",
    "import pickle as pkl"
   ]
  },
  {
   "cell_type": "code",
   "execution_count": 83,
   "metadata": {},
   "outputs": [],
   "source": [
    "f=pd.read_csv('./dis.csv')\n",
    "#f.loc[f['Language']=='English']\n"
   ]
  },
  {
   "cell_type": "code",
   "execution_count": 50,
   "metadata": {},
   "outputs": [],
   "source": [
    "t=(f.loc[f['Language']=='English'])[['VideoID','Start','End']].as_matrix()"
   ]
  },
  {
   "cell_type": "code",
   "execution_count": 64,
   "metadata": {},
   "outputs": [],
   "source": [
    "def makestr(obj):\n",
    "    return '_'.join(str(e) for e in obj)"
   ]
  },
  {
   "cell_type": "code",
   "execution_count": 66,
   "metadata": {},
   "outputs": [],
   "source": [
    "clip=[makestr(i) for i in t]"
   ]
  },
  {
   "cell_type": "code",
   "execution_count": 67,
   "metadata": {},
   "outputs": [],
   "source": [
    "t=(f.loc[f['Language']=='English'])[['Description']].as_matrix()"
   ]
  },
  {
   "cell_type": "code",
   "execution_count": 76,
   "metadata": {},
   "outputs": [],
   "source": [
    "dis=[makestr(i) for i in t]"
   ]
  },
  {
   "cell_type": "code",
   "execution_count": 97,
   "metadata": {},
   "outputs": [],
   "source": [
    "np.save(arr=np.array(zip(clip,dis)),file='dis')\n",
    "dis_set=np.array(zip(clip,dis))"
   ]
  },
  {
   "cell_type": "code",
   "execution_count": 150,
   "metadata": {},
   "outputs": [],
   "source": [
    "dev=np.load('./clip_index/testIndex.npy')"
   ]
  },
  {
   "cell_type": "code",
   "execution_count": 142,
   "metadata": {},
   "outputs": [],
   "source": [
    "dc=dict(zip(dev[:,1],dev[:,0]))"
   ]
  },
  {
   "cell_type": "code",
   "execution_count": 143,
   "metadata": {},
   "outputs": [],
   "source": [
    "dev_set=[]\n",
    "for i in dis_set:\n",
    "    if i[0] in dc.keys():\n",
    "        dev_set.append(i)\n",
    "dev_set=np.array(dev_set)"
   ]
  },
  {
   "cell_type": "code",
   "execution_count": 144,
   "metadata": {},
   "outputs": [],
   "source": [
    "np.save(arr=dev_set,file='test_cap')"
   ]
  },
  {
   "cell_type": "code",
   "execution_count": 145,
   "metadata": {},
   "outputs": [
    {
     "data": {
      "text/plain": [
       "27571"
      ]
     },
     "execution_count": 145,
     "metadata": {},
     "output_type": "execute_result"
    }
   ],
   "source": [
    "len(dev_set)"
   ]
  },
  {
   "cell_type": "code",
   "execution_count": 151,
   "metadata": {},
   "outputs": [
    {
     "data": {
      "text/plain": [
       "85550"
      ]
     },
     "execution_count": 151,
     "metadata": {},
     "output_type": "execute_result"
    }
   ],
   "source": [
    "len(dis)"
   ]
  },
  {
   "cell_type": "code",
   "execution_count": 152,
   "metadata": {},
   "outputs": [
    {
     "data": {
      "text/plain": [
       "array(['1350', 'Ce7equ9zCxk_4_19'], dtype='|S21')"
      ]
     },
     "execution_count": 152,
     "metadata": {},
     "output_type": "execute_result"
    }
   ],
   "source": [
    "dev[50]"
   ]
  },
  {
   "cell_type": "code",
   "execution_count": 154,
   "metadata": {},
   "outputs": [
    {
     "data": {
      "text/plain": [
       "array([[0.0332661 , 0.05598434, 0.52165574, ..., 0.47995722, 0.17262469,\n",
       "        0.11705182],\n",
       "       [0.04923973, 0.09237744, 0.649226  , ..., 0.6840897 , 0.09978075,\n",
       "        0.30077925],\n",
       "       [0.35558525, 0.16310687, 0.72943914, ..., 0.12752926, 0.08421186,\n",
       "        0.01635986],\n",
       "       ...,\n",
       "       [0.062631  , 0.23118877, 0.5799213 , ..., 0.4247532 , 0.21834981,\n",
       "        0.3783718 ],\n",
       "       [0.16067068, 0.09645315, 0.6256258 , ..., 0.22484496, 0.06094142,\n",
       "        0.29535267],\n",
       "       [0.25691113, 0.1589263 , 0.4465476 , ..., 0.329405  , 0.19925886,\n",
       "        0.228858  ]], dtype=float32)"
      ]
     },
     "execution_count": 154,
     "metadata": {},
     "output_type": "execute_result"
    }
   ],
   "source": [
    "np.load('./features/test/Ce7equ9zCxk_4_19.npy')"
   ]
  },
  {
   "cell_type": "code",
   "execution_count": null,
   "metadata": {},
   "outputs": [],
   "source": []
  }
 ],
 "metadata": {
  "kernelspec": {
   "display_name": "Python 2",
   "language": "python",
   "name": "python2"
  },
  "language_info": {
   "codemirror_mode": {
    "name": "ipython",
    "version": 2
   },
   "file_extension": ".py",
   "mimetype": "text/x-python",
   "name": "python",
   "nbconvert_exporter": "python",
   "pygments_lexer": "ipython2",
   "version": "2.7.6"
  }
 },
 "nbformat": 4,
 "nbformat_minor": 2
}
