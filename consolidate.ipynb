{
 "cells": [
  {
   "cell_type": "code",
   "execution_count": 1,
   "metadata": {},
   "outputs": [],
   "source": [
    "import numpy as np\n",
    "import pickle as pkl"
   ]
  },
  {
   "cell_type": "code",
   "execution_count": 45,
   "metadata": {},
   "outputs": [],
   "source": [
    "feats=[]\n"
   ]
  },
  {
   "cell_type": "code",
   "execution_count": 52,
   "metadata": {},
   "outputs": [],
   "source": [
    "t=np.load('./clip_index/testIndex.npy')"
   ]
  },
  {
   "cell_type": "code",
   "execution_count": 53,
   "metadata": {},
   "outputs": [],
   "source": [
    "for i in t:\n",
    "    if i[1]=='':\n",
    "        print i\n",
    "    m=np.load(file='./features/test/'+i[1]+'.npy')\n",
    "    feats.append(m)"
   ]
  },
  {
   "cell_type": "code",
   "execution_count": 59,
   "metadata": {},
   "outputs": [],
   "source": [
    "np.save(arr=np.array(feats),file=\"consilidated_feats\")"
   ]
  },
  {
   "cell_type": "code",
   "execution_count": 61,
   "metadata": {},
   "outputs": [
    {
     "data": {
      "text/plain": [
       "array([[0.0332661 , 0.05598434, 0.52165574, ..., 0.47995722, 0.17262469,\n",
       "        0.11705182],\n",
       "       [0.04923973, 0.09237744, 0.649226  , ..., 0.6840897 , 0.09978075,\n",
       "        0.30077925],\n",
       "       [0.35558525, 0.16310687, 0.72943914, ..., 0.12752926, 0.08421186,\n",
       "        0.01635986],\n",
       "       ...,\n",
       "       [0.062631  , 0.23118877, 0.5799213 , ..., 0.4247532 , 0.21834981,\n",
       "        0.3783718 ],\n",
       "       [0.16067068, 0.09645315, 0.6256258 , ..., 0.22484496, 0.06094142,\n",
       "        0.29535267],\n",
       "       [0.25691113, 0.1589263 , 0.4465476 , ..., 0.329405  , 0.19925886,\n",
       "        0.228858  ]], dtype=float32)"
      ]
     },
     "execution_count": 61,
     "metadata": {},
     "output_type": "execute_result"
    }
   ],
   "source": [
    "feats[1350]"
   ]
  },
  {
   "cell_type": "code",
   "execution_count": null,
   "metadata": {},
   "outputs": [],
   "source": []
  }
 ],
 "metadata": {
  "kernelspec": {
   "display_name": "Python 2",
   "language": "python",
   "name": "python2"
  },
  "language_info": {
   "codemirror_mode": {
    "name": "ipython",
    "version": 2
   },
   "file_extension": ".py",
   "mimetype": "text/x-python",
   "name": "python",
   "nbconvert_exporter": "python",
   "pygments_lexer": "ipython2",
   "version": "2.7.6"
  }
 },
 "nbformat": 4,
 "nbformat_minor": 2
}
